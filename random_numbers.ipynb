{
 "cells": [
  {
   "cell_type": "code",
   "execution_count": 1,
   "id": "fec7cbf9",
   "metadata": {},
   "outputs": [],
   "source": [
    "# Import the random module.\n",
    "import random"
   ]
  },
  {
   "cell_type": "code",
   "execution_count": 2,
   "id": "75f4027b",
   "metadata": {},
   "outputs": [
    {
     "data": {
      "text/plain": [
       "39"
      ]
     },
     "execution_count": 2,
     "metadata": {},
     "output_type": "execute_result"
    }
   ],
   "source": [
    "random.randint(-90, 90)"
   ]
  },
  {
   "cell_type": "code",
   "execution_count": 3,
   "id": "9f65b774",
   "metadata": {},
   "outputs": [
    {
     "data": {
      "text/plain": [
       "0.3923149036855422"
      ]
     },
     "execution_count": 3,
     "metadata": {},
     "output_type": "execute_result"
    }
   ],
   "source": [
    "random.random()"
   ]
  },
  {
   "cell_type": "code",
   "execution_count": 5,
   "id": "dc63083e",
   "metadata": {},
   "outputs": [
    {
     "data": {
      "text/plain": [
       "[-6.639318347476691,\n",
       " 10.594437488414696,\n",
       " -11.284506167099009,\n",
       " -70.75417887844308,\n",
       " 47.52370917881298,\n",
       " -71.27849012350433,\n",
       " 87.67712433764392,\n",
       " 12.142547914895616,\n",
       " 18.070431769135848,\n",
       " 81.33583445557665]"
      ]
     },
     "execution_count": 5,
     "metadata": {},
     "output_type": "execute_result"
    }
   ],
   "source": [
    "x = 1\n",
    "latitudes = []\n",
    "while x < 11:\n",
    "    random_lat = random.randint(-90, 89) + random.random()\n",
    "    latitudes.append(random_lat)\n",
    "    x += 1\n",
    "latitudes"
   ]
  },
  {
   "cell_type": "code",
   "execution_count": 6,
   "id": "ddf1939e",
   "metadata": {},
   "outputs": [
    {
     "data": {
      "text/plain": [
       "60"
      ]
     },
     "execution_count": 6,
     "metadata": {},
     "output_type": "execute_result"
    }
   ],
   "source": [
    "random.randrange(-90, 90, step=3)"
   ]
  },
  {
   "cell_type": "code",
   "execution_count": 7,
   "id": "a589df51",
   "metadata": {},
   "outputs": [
    {
     "data": {
      "text/plain": [
       "65.59808502901112"
      ]
     },
     "execution_count": 7,
     "metadata": {},
     "output_type": "execute_result"
    }
   ],
   "source": [
    "random.uniform(-90, 90)"
   ]
  },
  {
   "cell_type": "code",
   "execution_count": 8,
   "id": "3b60947b",
   "metadata": {},
   "outputs": [],
   "source": [
    "# Import the NumPy module.\n",
    "import numpy as np"
   ]
  },
  {
   "cell_type": "code",
   "execution_count": 9,
   "id": "60c47831",
   "metadata": {},
   "outputs": [
    {
     "data": {
      "text/plain": [
       "-24.708012670384164"
      ]
     },
     "execution_count": 9,
     "metadata": {},
     "output_type": "execute_result"
    }
   ],
   "source": [
    "np.random.uniform(-90.000, 90.000)"
   ]
  },
  {
   "cell_type": "code",
   "execution_count": 10,
   "id": "ab9094ee",
   "metadata": {},
   "outputs": [
    {
     "data": {
      "text/plain": [
       "array([-89.99629779,  49.9288529 ,  43.33195351, -20.5637895 ,\n",
       "        75.79390984, -69.45973589,   4.73392649,  30.39733908,\n",
       "        62.67829179, -65.58031819, -61.87827295,  13.19732008,\n",
       "        76.83194983,  -3.1148366 , -40.08613547, -65.06217588,\n",
       "        -4.40973051, -18.75193633, -58.88524565, -52.06382499,\n",
       "        -7.19672604,  20.21705856, -68.26275477, -13.23597158,\n",
       "        70.4838841 , -18.93179237, -35.69703684,   0.71355827,\n",
       "        51.75691413,  86.27426152, -62.49764653, -37.39464541,\n",
       "       -85.29654923,  -3.60770023, -15.52971658,  41.57749033,\n",
       "        21.9683429 , -80.51305573,  56.76505221,  37.12738396,\n",
       "         2.26808504,  76.84309946, -89.30152972,  68.6876788 ,\n",
       "       -85.52473426,   3.68023523, -80.3916677 ,  48.55794702,\n",
       "       -49.43304121,   4.33350714])"
      ]
     },
     "execution_count": 10,
     "metadata": {},
     "output_type": "execute_result"
    }
   ],
   "source": [
    "np.random.uniform(-90.000, 90.000, size=50)"
   ]
  },
  {
   "cell_type": "code",
   "execution_count": 11,
   "id": "257111ae",
   "metadata": {},
   "outputs": [],
   "source": [
    "# Import timeit.\n",
    "import timeit"
   ]
  },
  {
   "cell_type": "code",
   "execution_count": 12,
   "id": "d536979f",
   "metadata": {},
   "outputs": [
    {
     "name": "stdout",
     "output_type": "stream",
     "text": [
      "13.1 µs ± 1.24 µs per loop (mean ± std. dev. of 7 runs, 100000 loops each)\n"
     ]
    }
   ],
   "source": [
    "%timeit np.random.uniform(-90.000, 90.000, size=1500)"
   ]
  },
  {
   "cell_type": "code",
   "execution_count": 13,
   "id": "1a454605",
   "metadata": {},
   "outputs": [
    {
     "name": "stdout",
     "output_type": "stream",
     "text": [
      "1.72 ms ± 108 µs per loop (mean ± std. dev. of 7 runs, 1000 loops each)\n"
     ]
    }
   ],
   "source": [
    "def latitudes(size):\n",
    "    latitudes = []\n",
    "    x = 0\n",
    "    while x < (size):\n",
    "        random_lat = random.randint(-90, 90) + random.random()\n",
    "        latitudes.append(random_lat)\n",
    "        x += 1\n",
    "    return latitudes\n",
    "# Call the function with 1500.\n",
    "%timeit latitudes(1500)"
   ]
  }
 ],
 "metadata": {
  "kernelspec": {
   "display_name": "PythonData",
   "language": "python",
   "name": "pythondata"
  },
  "language_info": {
   "codemirror_mode": {
    "name": "ipython",
    "version": 3
   },
   "file_extension": ".py",
   "mimetype": "text/x-python",
   "name": "python",
   "nbconvert_exporter": "python",
   "pygments_lexer": "ipython3",
   "version": "3.7.11"
  }
 },
 "nbformat": 4,
 "nbformat_minor": 5
}
